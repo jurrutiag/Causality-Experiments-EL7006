{
 "cells": [
  {
   "cell_type": "code",
   "execution_count": 1,
   "metadata": {},
   "outputs": [],
   "source": [
    "import sys\n",
    "sys.path.append('../..')"
   ]
  },
  {
   "cell_type": "code",
   "execution_count": 2,
   "metadata": {},
   "outputs": [],
   "source": [
    "import torch\n",
    "import torch.nn as nn\n",
    "import torch.nn.functional as F\n",
    "\n",
    "import numpy as np\n",
    "from scipy import interpolate\n",
    "\n",
    "import random\n",
    "import tqdm\n",
    "from copy import deepcopy\n",
    "from argparse import Namespace\n",
    "import warnings\n",
    "\n",
    "%matplotlib inline\n",
    "import matplotlib.pyplot as plt\n",
    "import seaborn as sns\n",
    "sns.set()"
   ]
  },
  {
   "cell_type": "code",
   "execution_count": 3,
   "metadata": {},
   "outputs": [],
   "source": [
    "from causal_meta.modules import networks as nets\n",
    "from causal_meta.utils.data_utils import RandomSplineSCM\n",
    "\n",
    "import train_utils as tu\n",
    "from xcoders import Rotor\n",
    "from mixture_density import MDN, GMM, mdn_nll\n",
    "from gmm import GaussianMixture"
   ]
  },
  {
   "cell_type": "code",
   "execution_count": 4,
   "metadata": {},
   "outputs": [],
   "source": [
    "SEED = 91023\n",
    "torch.manual_seed(SEED)\n",
    "np.random.seed(SEED)"
   ]
  },
  {
   "cell_type": "markdown",
   "metadata": {},
   "source": [
    "# Boilerplate"
   ]
  },
  {
   "cell_type": "markdown",
   "metadata": {},
   "source": [
    "## Utilities"
   ]
  },
  {
   "cell_type": "code",
   "execution_count": 5,
   "metadata": {},
   "outputs": [],
   "source": [
    "def normal(mean, std, N): \n",
    "    return torch.normal(torch.ones(N).mul_(mean), torch.ones(N).mul_(std)).view(-1, 1)\n",
    "\n",
    "def normal_like(X): \n",
    "    mean = X.mean()\n",
    "    std = X.std()\n",
    "    return normal(mean, std, X.size(0))\n",
    "\n",
    "def mlp(opt): \n",
    "    if opt.NUM_MID_LAYERS == -1: \n",
    "        return nn.Linear(opt.INP_DIM, opt.OUT_DIM)\n",
    "    else:\n",
    "        return nets.MLP(opt.INP_DIM, opt.OUT_DIM, opt.NUM_MID_LAYERS, \n",
    "                        opt.CAPACITY, opt.INP_NOISE)"
   ]
  },
  {
   "cell_type": "markdown",
   "metadata": {},
   "source": [
    "## Mixture Density"
   ]
  },
  {
   "cell_type": "code",
   "execution_count": 6,
   "metadata": {},
   "outputs": [],
   "source": [
    "def mdn(opt): \n",
    "    return MDN(opt.CAPACITY, opt.NUM_COMPONENTS)\n",
    "\n",
    "def gmm(opt): \n",
    "    return GaussianMixture(opt.GMM_NUM_COMPONENTS)"
   ]
  },
  {
   "cell_type": "markdown",
   "metadata": {},
   "source": [
    "## Reversible Encoder"
   ]
  },
  {
   "cell_type": "code",
   "execution_count": 7,
   "metadata": {},
   "outputs": [],
   "source": [
    "def xcodergen(opt): \n",
    "    # Make rotor\n",
    "    return Rotor(opt.XCODER_INIT)"
   ]
  },
  {
   "cell_type": "markdown",
   "metadata": {},
   "source": [
    "## Ground Truth Generator"
   ]
  },
  {
   "cell_type": "markdown",
   "metadata": {},
   "source": [
    "We use a posterior of the form: \n",
    "\n",
    "$$\n",
    "P(Y | X) = \\sum_i \\pi_i(X) \\mathcal{N}(\\mu_i(X), \\sigma_i(X))\n",
    "$$\n",
    "\n",
    "which is a mixture of 10 gaussians. "
   ]
  },
  {
   "cell_type": "code",
   "execution_count": 8,
   "metadata": {},
   "outputs": [
    {
     "data": {
      "image/png": "[encoded data removed]",
      "text/plain": [
       "<Figure size 432x288 with 1 Axes>"
      ]
     },
     "metadata": {
      "needs_background": "light"
     },
     "output_type": "display_data"
    }
   ],
   "source": [
    "# Test\n",
    "rand_scm = RandomSplineSCM(False, True, 8, 8, 3, range_scale=1.)\n",
    "\n",
    "plt.figure()\n",
    "plt.title(\"SCM with Covariate Shift\")\n",
    "rand_scm.plot(X=normal(4, 2, 1000), show=False, label='Transfer 0', alpha=0.7)\n",
    "rand_scm.plot(X=normal(-4, 2, 1000), show=False, label='Transfer 1', alpha=0.7)\n",
    "rand_scm.plot(X=normal(0, 2, 1000), show=False, label='Train', alpha=0.7)\n",
    "plt.xlabel(\"X\")\n",
    "plt.ylabel(\"Y\")\n",
    "plt.legend()\n",
    "plt.show()"
   ]
  },
  {
   "cell_type": "markdown",
   "metadata": {},
   "source": [
    "## Visualization"
   ]
  },
  {
   "cell_type": "code",
   "execution_count": 9,
   "metadata": {},
   "outputs": [],
   "source": [
    "def plot_key(frames, key, show=True, label=None, name=None): \n",
    "    its, vals = zip(*[(frame.iter_num, getattr(frame, key)) for frame in frames])\n",
    "    if show:\n",
    "        plt.figure()\n",
    "    plt.plot(its, vals, label=label)\n",
    "    if show:\n",
    "        plt.xlabel(\"Iterations\")\n",
    "        plt.ylabel(name if name is not None else key.title())\n",
    "        plt.show()"
   ]
  },
  {
   "cell_type": "markdown",
   "metadata": {},
   "source": [
    "## Training"
   ]
  },
  {
   "cell_type": "code",
   "execution_count": 10,
   "metadata": {},
   "outputs": [],
   "source": [
    "def gradnan_filter(model): \n",
    "    nan_found = False\n",
    "    for p in model.parameters(): \n",
    "        nan_mask = torch.isnan(p.grad.data)\n",
    "        nan_found = bool(nan_mask.any().item())\n",
    "        p.grad.data[nan_mask] = 0.\n",
    "    return nan_found"
   ]
  },
  {
   "cell_type": "code",
   "execution_count": 11,
   "metadata": {},
   "outputs": [],
   "source": [
    "def marginal_nll(opt, inp, nll): \n",
    "    model_g = gmm(opt)\n",
    "    if opt.CUDA: \n",
    "        model_g = model_g.cuda()\n",
    "    model_g.fit(inp, n_iter=opt.EM_ITERS)\n",
    "    with torch.no_grad():\n",
    "        loss_marginal = nll(model_g(inp), inp)\n",
    "    return loss_marginal"
   ]
  },
  {
   "cell_type": "code",
   "execution_count": 13,
   "metadata": {},
   "outputs": [],
   "source": [
    "def encoder_train_shared_regret(opt, model_x2y, model_y2x, scm, encoder, decoder, alpha): \n",
    "    if opt.CUDA: \n",
    "        model_x2y = model_x2y.cuda()\n",
    "        model_y2x = model_y2x.cuda()\n",
    "        encoder = encoder.cuda()\n",
    "        decoder = decoder.cuda()\n",
    "    encoder_optim = torch.optim.Adam(encoder.parameters(), opt.ENCODER_LR)\n",
    "    alpha_optim = torch.optim.Adam([alpha], opt.ALPHA_LR)\n",
    "    frames = []\n",
    "    for meta_iter in tqdm.trange(opt.NUM_META_ITER): \n",
    "        # Preheat the models\n",
    "        _ = tu.train_nll(opt, model_x2y, scm, opt.TRAIN_DISTRY, 'X2Y', \n",
    "                         mdn_nll, decoder, encoder, quiet=True)\n",
    "        _ = tu.train_nll(opt, model_y2x, scm, opt.TRAIN_DISTRY, 'Y2X', \n",
    "                         mdn_nll, decoder, encoder, quiet=True)\n",
    "        # Sample from SCM\n",
    "        X = opt.TRANS_DISTRY()\n",
    "        Y = scm(X)\n",
    "        if opt.CUDA: \n",
    "            X, Y = X.cuda(), Y.cuda()\n",
    "        # Decode \n",
    "        with torch.no_grad(): \n",
    "            X, Y = decoder(X, Y)\n",
    "        # Encode\n",
    "        X, Y = encoder(X, Y)\n",
    "        with torch.no_grad():\n",
    "            if opt.USE_BASELINE:\n",
    "                baseline_y = marginal_nll(opt, Y, mdn_nll)\n",
    "                baseline_x = marginal_nll(opt, X, mdn_nll)\n",
    "            else:\n",
    "                baseline_y = 0.\n",
    "                baseline_x = 0.\n",
    "        # Save state dicts\n",
    "        state_x2y = deepcopy(model_x2y.state_dict())\n",
    "        state_y2x = deepcopy(model_y2x.state_dict())\n",
    "        # Inner loop \n",
    "        optim_x2y = torch.optim.Adam(model_x2y.parameters(), lr=opt.FINETUNE_LR)\n",
    "        optim_y2x = torch.optim.Adam(model_y2x.parameters(), lr=opt.FINETUNE_LR)\n",
    "        regrets_x2y = []\n",
    "        regrets_y2x = []\n",
    "        is_nan = False\n",
    "        # Evaluate regret discrepancy \n",
    "        for t in range(opt.FINETUNE_NUM_ITER):\n",
    "            loss_x2y = mdn_nll(model_x2y(X), Y)\n",
    "            loss_y2x = mdn_nll(model_y2x(Y), X)\n",
    "            if torch.isnan(loss_x2y).item() or torch.isnan(loss_y2x).item(): \n",
    "                is_nan = True\n",
    "                break\n",
    "            optim_x2y.zero_grad()\n",
    "            optim_y2x.zero_grad()\n",
    "            loss_x2y.backward(retain_graph=True) \n",
    "            loss_y2x.backward(retain_graph=True)\n",
    "            # Filter out NaNs that might have sneaked in\n",
    "            nan_in_x2y = gradnan_filter(model_x2y)\n",
    "            nan_in_y2x = gradnan_filter(model_y2x)\n",
    "            if nan_in_x2y or nan_in_y2x: \n",
    "                is_nan = True\n",
    "                break\n",
    "            optim_x2y.step()\n",
    "            optim_y2x.step()\n",
    "            # Store for encoder\n",
    "            regrets_x2y.append(loss_x2y + baseline_x)\n",
    "            regrets_y2x.append(loss_y2x + baseline_y)\n",
    "        if not is_nan:\n",
    "            # Evaluate total regret\n",
    "            regret_x2y = torch.stack(regrets_x2y).mean()\n",
    "            regret_y2x = torch.stack(regrets_y2x).mean()\n",
    "            # Evaluate losses\n",
    "            loss = torch.logsumexp(\n",
    "                torch.stack([F.logsigmoid(alpha) + regret_x2y,\n",
    "                             F.logsigmoid(-alpha) + regret_y2x]), \n",
    "                0)\n",
    "            # Optimize\n",
    "            encoder_optim.zero_grad()\n",
    "            alpha_optim.zero_grad()\n",
    "            loss.backward()\n",
    "            # Make sure no nans\n",
    "            if torch.isnan(encoder.theta.grad.data).any(): \n",
    "                encoder.theta.grad.data.zero_()\n",
    "            if torch.isnan(alpha.grad.data).any(): \n",
    "                alpha.grad.data.zero_()\n",
    "            encoder_optim.step()\n",
    "            alpha_optim.step()\n",
    "            # Load original state dicts\n",
    "            model_x2y.load_state_dict(state_x2y)\n",
    "            model_y2x.load_state_dict(state_y2x)\n",
    "            # Add info\n",
    "            frames.append(Namespace(iter_num=meta_iter, \n",
    "                                    regret_x2y=regret_x2y.item(), \n",
    "                                    regret_y2x=regret_y2x.item(),\n",
    "                                    loss=loss.item(),\n",
    "                                    alpha=alpha.item(), \n",
    "                                    theta=encoder.theta.item()))\n",
    "        else:\n",
    "            # Load original state dicts\n",
    "            model_x2y.load_state_dict(state_x2y)\n",
    "            model_y2x.load_state_dict(state_y2x)\n",
    "            # Add dummy info\n",
    "            frames.append(Namespace(iter_num=meta_iter, \n",
    "                                    regret_x2y=float('nan'), \n",
    "                                    regret_y2x=float('nan'),\n",
    "                                    loss=float('nan'),\n",
    "                                    alpha=float('nan'), \n",
    "                                    theta=float('nan')))\n",
    "            \n",
    "    return frames"
   ]
  },
  {
   "cell_type": "code",
   "execution_count": 14,
   "metadata": {},
   "outputs": [],
   "source": [
    "def plot_theta(frames, gt_theta, save=False): \n",
    "    its, vals = zip(*[(frame.iter_num, frame.theta / (np.pi / 2)) for frame in frames])\n",
    "    gt_theta = -gt_theta.item() / (np.pi / 2)\n",
    "    plt.figure()\n",
    "    # plt.plot(its, vals, label=r'$\\theta_{\\mathcal{E}}$', c='black')\n",
    "    plt.plot(its, vals, label=r'$\\theta_{\\mathcal{E}}$')\n",
    "    plt.plot(its, [gt_theta] * len(its), linestyle='--', label=r'Solution 1 $\\left(+\\frac{\\pi}{4}\\right)$')\n",
    "    plt.plot(its, [gt_theta - 1] * len(its), linestyle='--', label=r'Solution 2 $\\left(-\\frac{\\pi}{4}\\right)$')\n",
    "    plt.xlabel(\"Iterations\")\n",
    "    plt.ylabel(\"Encoder Angle [π/2 rad]\")\n",
    "    plt.legend()\n",
    "    if save:\n",
    "        plt.savefig('fixed-encoder-evo.pdf', bbox_inches='tight', format='pdf')\n",
    "    plt.show()"
   ]
  },
  {
   "cell_type": "code",
   "execution_count": 15,
   "metadata": {},
   "outputs": [],
   "source": [
    "def probe_xcoders(encoder, decoder):\n",
    "    # Test encoder and decoder\n",
    "    with torch.no_grad():\n",
    "        _X = torch.tensor([[1.]])\n",
    "        _Y = torch.tensor([[0.]])\n",
    "        if opt.CUDA:\n",
    "            _X, _Y = _X.to(encoder.theta.device), _Y.to(encoder.theta.device)\n",
    "        _X_d, _Y_d = decoder(_X, _Y)\n",
    "        _X_de, _Y_de = encoder(_X_d, _Y_d)\n",
    "    print(f\"Initial (A, B) = {_X.item()}, {_Y.item()}\")\n",
    "    print(f\"Decoded (X, Y) = {_X_d.item()}, {_Y_d.item()}\")\n",
    "    print(f\"Encoded (U, V) = {_X_de.item()}, {_Y_de.item()}\")"
   ]
  },
  {
   "cell_type": "markdown",
   "metadata": {},
   "source": [
    "# Experiments with Unfixed Encoders"
   ]
  },
  {
   "cell_type": "code",
   "execution_count": 16,
   "metadata": {},
   "outputs": [],
   "source": [
    "opt = Namespace()\n",
    "\n",
    "# Model\n",
    "opt.CAPACITY = 32\n",
    "opt.NUM_COMPONENTS = 10\n",
    "opt.GMM_NUM_COMPONENTS = 10\n",
    "\n",
    "# Training\n",
    "opt.LR = 0.01\n",
    "opt.NUM_ITER = 20\n",
    "opt.NUM_META_ITER = 1000\n",
    "opt.ENCODER_LR = 0.01\n",
    "opt.ALPHA_LR = 0.001\n",
    "opt.CUDA = True\n",
    "opt.REC_FREQ = 10\n",
    "opt.ALPHA_INIT = 0.\n",
    "opt.USE_BASELINE = True\n",
    "\n",
    "# Fine tuning\n",
    "opt.FINETUNE_NUM_ITER = 5\n",
    "opt.FINETUNE_LR = 0.001\n",
    "opt.EM_ITERS = 500\n",
    "\n",
    "# Sampling \n",
    "opt.NUM_SAMPLES = 1000\n",
    "opt.TRAIN_DISTRY = lambda: normal(0, 2, opt.NUM_SAMPLES)\n",
    "opt.TRANS_DISTRY = lambda: normal(np.random.uniform(-4, 4), \n",
    "                                  2, opt.NUM_SAMPLES)\n",
    "\n",
    "# Encoder\n",
    "opt.DECODER_DEFAULT = -float(0.5 * np.pi/2)"
   ]
  },
  {
   "cell_type": "markdown",
   "metadata": {},
   "source": [
    "## Make Xcoders"
   ]
  },
  {
   "cell_type": "markdown",
   "metadata": {},
   "source": [
    "Make a ground-truth decoder with $\\theta_0$. "
   ]
  },
  {
   "cell_type": "code",
   "execution_count": 17,
   "metadata": {},
   "outputs": [],
   "source": [
    "gt_decoder = Rotor(opt.DECODER_DEFAULT)"
   ]
  },
  {
   "cell_type": "markdown",
   "metadata": {},
   "source": [
    "The real encoder should have $\\theta = -\\theta_0$. "
   ]
  },
  {
   "cell_type": "code",
   "execution_count": 18,
   "metadata": {},
   "outputs": [],
   "source": [
    "encoder = Rotor(0. * np.pi/2)"
   ]
  },
  {
   "cell_type": "code",
   "execution_count": 19,
   "metadata": {},
   "outputs": [
    {
     "name": "stdout",
     "output_type": "stream",
     "text": [
      "Initial (A, B) = 1.0, 0.0\n",
      "Decoded (X, Y) = 0.7071067690849304, 0.7071067690849304\n",
      "Encoded (U, V) = 0.7071067690849304, 0.7071067690849304\n"
     ]
    }
   ],
   "source": [
    "probe_xcoders(encoder, gt_decoder)"
   ]
  },
  {
   "cell_type": "markdown",
   "metadata": {},
   "source": [
    "## Make Alpha and Models"
   ]
  },
  {
   "cell_type": "code",
   "execution_count": 20,
   "metadata": {},
   "outputs": [],
   "source": [
    "alpha = tu.make_alpha(opt)"
   ]
  },
  {
   "cell_type": "code",
   "execution_count": 21,
   "metadata": {},
   "outputs": [],
   "source": [
    "model_x2y = mdn(opt)\n",
    "model_y2x = mdn(opt)"
   ]
  },
  {
   "cell_type": "markdown",
   "metadata": {},
   "source": [
    "## Train Encoder\n",
    "\n",
    "If it doesn't work with the seed of your choice, try tuning the (hyper)parameters of ```opt.TRANS_DISTRY```. Since the SCM is generated randomly, it's not possible to know the correct hyper-parameters in advance (unless the seed is fixed). $\\sigma \\in (1, 2)$ should work fine, but if the range from which the means are sampled is too large, you can have numerical instabilities. If it's too small, the gradient signal to the encoder can be weak. "
   ]
  },
  {
   "cell_type": "code",
   "execution_count": 22,
   "metadata": {},
   "outputs": [
    {
     "name": "stderr",
     "output_type": "stream",
     "text": [
      "100%|██████████| 1000/1000 [22:56<00:00,  1.80s/it]\n"
     ]
    }
   ],
   "source": [
    "frames = encoder_train_shared_regret(opt, model_x2y, model_y2x, rand_scm, encoder, gt_decoder, alpha)"
   ]
  },
  {
   "cell_type": "code",
   "execution_count": 23,
   "metadata": {},
   "outputs": [
    {
     "data": {
      "image/png": "[encoded data removed]",
      "text/plain": [
       "<Figure size 432x288 with 1 Axes>"
      ]
     },
     "metadata": {
      "needs_background": "light"
     },
     "output_type": "display_data"
    }
   ],
   "source": [
    "plot_theta(frames, gt_decoder.theta)"
   ]
  },
  {
   "cell_type": "code",
   "execution_count": 24,
   "metadata": {},
   "outputs": [
    {
     "data": {
      "image/png": "[encoded data removed]",
      "text/plain": [
       "<Figure size 432x288 with 1 Axes>"
      ]
     },
     "metadata": {
      "needs_background": "light"
     },
     "output_type": "display_data"
    }
   ],
   "source": [
    "plot_key(frames, 'alpha', name='Structural Parameter')"
   ]
  },
  {
   "cell_type": "code",
   "execution_count": null,
   "metadata": {},
   "outputs": [],
   "source": []
  }
 ],
 "metadata": {
  "kernelspec": {
   "display_name": "Python 3",
   "language": "python",
   "name": "python3"
  },
  "language_info": {
   "codemirror_mode": {
    "name": "ipython",
    "version": 3
   },
   "file_extension": ".py",
   "mimetype": "text/x-python",
   "name": "python",
   "nbconvert_exporter": "python",
   "pygments_lexer": "ipython3",
   "version": "3.6.7"
  }
 },
 "nbformat": 4,
 "nbformat_minor": 2
}
