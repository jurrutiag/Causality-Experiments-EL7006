{
 "cells": [
  {
   "cell_type": "code",
   "execution_count": 1,
   "metadata": {},
   "outputs": [],
   "source": [
    "import sys\n",
    "sys.path.insert(0, '../..')"
   ]
  },
  {
   "cell_type": "code",
   "execution_count": 2,
   "metadata": {},
   "outputs": [],
   "source": [
    "%matplotlib inline\n",
    "import numpy as np\n",
    "import matplotlib.pyplot as plt\n",
    "import torch\n",
    "from tqdm import tnrange, tqdm_notebook\n",
    "\n",
    "from causal_meta.utils.data_utils import generate_data_categorical\n",
    "from models import StructuralModel"
   ]
  },
  {
   "cell_type": "code",
   "execution_count": 3,
   "metadata": {},
   "outputs": [],
   "source": [
    "N = 10\n",
    "model = StructuralModel(N, dtype=torch.float64)"
   ]
  },
  {
   "cell_type": "code",
   "execution_count": 4,
   "metadata": {},
   "outputs": [],
   "source": [
    "optimizer = torch.optim.SGD(model.modules_parameters(), lr=1e-1)\n",
    "meta_optimizer = torch.optim.RMSprop([model.w], lr=1e-2)"
   ]
  },
  {
   "cell_type": "code",
   "execution_count": 5,
   "metadata": {},
   "outputs": [],
   "source": [
    "num_runs = 1 # 10\n",
    "num_training = 1 # 100\n",
    "num_transfer = 1000\n",
    "num_gradient_steps = 2\n",
    "\n",
    "train_batch_size = 1000\n",
    "transfer_batch_size = 10"
   ]
  },
  {
   "cell_type": "code",
   "execution_count": 6,
   "metadata": {},
   "outputs": [
    {
     "name": "stderr",
     "output_type": "stream",
     "text": [
      "C:\\Users\\rocho\\anaconda3\\envs\\RNN-TDI\\lib\\site-packages\\ipykernel_launcher.py:3: TqdmDeprecationWarning: Please use `tqdm.notebook.trange` instead of `tqdm.tnrange`\n",
      "  This is separate from the ipykernel package so we can avoid doing imports until\n"
     ]
    },
    {
     "data": {
      "application/vnd.jupyter.widget-view+json": {
       "model_id": "f75b5fe5670c4039895937baa53ca2e8",
       "version_major": 2,
       "version_minor": 0
      },
      "text/plain": [
       "HBox(children=(HTML(value=''), FloatProgress(value=0.0, max=1.0), HTML(value='')))"
      ]
     },
     "metadata": {},
     "output_type": "display_data"
    },
    {
     "name": "stderr",
     "output_type": "stream",
     "text": [
      "C:\\Users\\rocho\\anaconda3\\envs\\RNN-TDI\\lib\\site-packages\\ipykernel_launcher.py:5: TqdmDeprecationWarning: Please use `tqdm.notebook.trange` instead of `tqdm.tnrange`\n",
      "  \"\"\"\n"
     ]
    },
    {
     "data": {
      "application/vnd.jupyter.widget-view+json": {
       "model_id": "",
       "version_major": 2,
       "version_minor": 0
      },
      "text/plain": [
       "HBox(children=(HTML(value=''), FloatProgress(value=0.0, max=1.0), HTML(value='')))"
      ]
     },
     "metadata": {},
     "output_type": "display_data"
    },
    {
     "name": "stderr",
     "output_type": "stream",
     "text": [
      "C:\\Users\\rocho\\anaconda3\\envs\\RNN-TDI\\lib\\site-packages\\ipykernel_launcher.py:10: TqdmDeprecationWarning: Please use `tqdm.notebook.trange` instead of `tqdm.tnrange`\n",
      "  # Remove the CWD from sys.path while we load stuff.\n"
     ]
    },
    {
     "data": {
      "application/vnd.jupyter.widget-view+json": {
       "model_id": "",
       "version_major": 2,
       "version_minor": 0
      },
      "text/plain": [
       "HBox(children=(HTML(value=''), FloatProgress(value=0.0, max=1000.0), HTML(value='')))"
      ]
     },
     "metadata": {},
     "output_type": "display_data"
    },
    {
     "name": "stdout",
     "output_type": "stream",
     "text": [
      "\n"
     ]
    }
   ],
   "source": [
    "alphas = np.zeros((num_runs, num_training, num_transfer))\n",
    "\n",
    "for j in tnrange(num_runs):\n",
    "    model.w.data.zero_()\n",
    "    for i in tnrange(num_training, leave=False):\n",
    "        # Step 1: Sample a joint distribution before intervention\n",
    "        pi_A_1 = np.random.dirichlet(np.ones(N))\n",
    "        pi_B_A = np.random.dirichlet(np.ones(N), size=N)\n",
    "        \n",
    "        transfers = tnrange(num_transfer, leave=False)\n",
    "        for k in transfers:\n",
    "            # Step 2: Train the modules on the training distribution\n",
    "            model.set_ground_truth(pi_A_1, pi_B_A)\n",
    "            # Step 3: Sample a joint distribution after intervention\n",
    "            pi_A_2 = np.random.dirichlet(np.ones(N))\n",
    "\n",
    "            # Step 4: Do k steps of gradient descent for adaptation on the\n",
    "            # distribution after intervention\n",
    "            model.zero_grad()\n",
    "            loss = torch.tensor(0., dtype=torch.float64)\n",
    "            for _ in range(num_gradient_steps):\n",
    "                x_train = torch.from_numpy(generate_data_categorical(transfer_batch_size, pi_A_2, pi_B_A))\n",
    "                loss += -torch.mean(model(x_train))\n",
    "                optimizer.zero_grad()\n",
    "                inner_loss_A_B = -torch.mean(model.model_A_B(x_train))\n",
    "                inner_loss_B_A = -torch.mean(model.model_B_A(x_train))\n",
    "                inner_loss = inner_loss_A_B + inner_loss_B_A\n",
    "                inner_loss.backward()\n",
    "                optimizer.step()\n",
    "\n",
    "            # Step 5: Update the structural parameter alpha\n",
    "            meta_optimizer.zero_grad()\n",
    "            loss.backward()\n",
    "            meta_optimizer.step()\n",
    "\n",
    "            # Log the values of alpha\n",
    "            alpha = torch.sigmoid(model.w).item()\n",
    "            alphas[j, i, k] = alpha\n",
    "            transfers.set_postfix(alpha='{0:.4f}'.format(alpha), grad='{0:.4f}'.format(model.w.grad.item()))"
   ]
  },
  {
   "cell_type": "code",
   "execution_count": 7,
   "metadata": {},
   "outputs": [
    {
     "data": {
      "image/png": "[encoded data removed]",
      "text/plain": [
       "<Figure size 648x360 with 1 Axes>"
      ]
     },
     "metadata": {
      "needs_background": "light"
     },
     "output_type": "display_data"
    }
   ],
   "source": [
    "alphas_50 = np.percentile(alphas.reshape((-1, num_transfer)), 50, axis=0)\n",
    "\n",
    "fig = plt.figure(figsize=(9, 5))\n",
    "ax = plt.subplot(1, 1, 1)\n",
    "\n",
    "ax.tick_params(axis='both', which='major', labelsize=13)\n",
    "ax.axhline(1, c='lightgray', ls='--')\n",
    "ax.axhline(0, c='lightgray', ls='--')\n",
    "ax.plot(alphas_50, lw=2, color='k')\n",
    "\n",
    "ax.set_xlim([0, num_transfer - 1])\n",
    "ax.set_xlabel('Number of episodes', fontsize=14)\n",
    "ax.set_ylabel(r'$\\sigma(\\gamma)$', fontsize=14)\n",
    "\n",
    "plt.show()"
   ]
  },
  {
   "cell_type": "code",
   "execution_count": null,
   "metadata": {},
   "outputs": [],
   "source": []
  }
 ],
 "metadata": {
  "kernelspec": {
   "display_name": "Python 3",
   "language": "python",
   "name": "python3"
  },
  "language_info": {
   "codemirror_mode": {
    "name": "ipython",
    "version": 3
   },
   "file_extension": ".py",
   "mimetype": "text/x-python",
   "name": "python",
   "nbconvert_exporter": "python",
   "pygments_lexer": "ipython3",
   "version": "3.7.9"
  }
 },
 "nbformat": 4,
 "nbformat_minor": 2
}
